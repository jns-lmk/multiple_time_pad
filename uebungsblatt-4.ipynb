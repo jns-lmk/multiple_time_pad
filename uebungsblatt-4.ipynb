{
 "cells": [
  {
   "cell_type": "code",
   "execution_count": 1,
   "metadata": {},
   "outputs": [],
   "source": [
    "chiffrate = list(range(3))"
   ]
  },
  {
   "cell_type": "code",
   "execution_count": 2,
   "metadata": {},
   "outputs": [],
   "source": [
    "chiffrate[0] = [\n",
    "    0x19, 0x0e, 0x4f, 0x47, 0x1d, 0x07, 0x4e, 0x10, 0x05, 0x0a, 0x54, 0x1f, 0x0a, 0x00, 0x53, 0x07,\n",
    "    0x54, 0x12, 0x1b, 0x1a, 0x16, 0x44, 0x49, 0x19, 0x41, 0x0f, 0x19, 0x10, 0x1e, 0x13, 0x4f, 0x01,\n",
    "    0x1b, 0x17, 0x15, 0x48, 0x14, 0x49, 0x0d, 0x17, 0x16, 0x00, 0x03, 0x41, 0x00, 0x41, 0x12, 0x45,\n",
    "    0x0e, 0x48, 0x02, 0x0b, 0x4e, 0x16, 0x1a, 0x04, 0x54, 0x1e, 0x0e, 0x1d, 0x00, 0x5e, 0x49, 0x19,\n",
    "    0x1a, 0x1d, 0x0e, 0x52, 0x36, 0x1d, 0x16, 0x4e, 0x1d, 0x47, 0x4e, 0x02, 0x0b, 0x1c, 0x07, 0x59,\n",
    "    0x44, 0x1d, 0x45, 0x19, 0x0b, 0x0b, 0x00, 0x1a, 0x06, 0x1a, 0x49, 0x00, 0x11, 0x0f, 0x00, 0x53,\n",
    "    0x59, 0x45, 0x61, 0x10, 0x4f, 0x02, 0x42, 0x15, 0x53, 0x1f, 0x4e, 0x1b, 0x1f, 0x49, 0x04, 0x48,\n",
    "    0x0e, 0x17, 0x1c, 0x00, 0x1d, 0x1b, 0x45, 0x4c, 0x07, 0x0b, 0x0b, 0x4c, 0x45, 0x1d, 0x07, 0x10,\n",
    "    0x47, 0x01, 0x5d, 0x00\n",
    "]"
   ]
  },
  {
   "cell_type": "code",
   "execution_count": 3,
   "metadata": {},
   "outputs": [],
   "source": [
    "chiffrate[1] = [\n",
    "    0x1d, 0x57, 0x07, 0x41, 0x1b, 0x03, 0x00, 0x1c, 0x07, 0x10, 0x53, 0x12, 0x18, 0x1d, 0x01, 0x1f,\n",
    "    0x01, 0x53, 0x30, 0x01, 0x06, 0x00, 0x04, 0x0f, 0x4b, 0x06, 0x52, 0x0d, 0x18, 0x11, 0x4f, 0x05,\n",
    "    0x17, 0x05, 0x03, 0x44, 0x59, 0x59, 0x0e, 0x07, 0x45, 0x44, 0x0d, 0x41, 0x10, 0x48, 0x0e, 0x45,\n",
    "    0x1d, 0x49, 0x14, 0x0d, 0x0b, 0x16, 0x52, 0x00, 0x1a, 0x0d, 0x4f, 0x1d, 0x49, 0x55, 0x00, 0x0c,\n",
    "    0x01, 0x0a, 0x54, 0x1a, 0x16, 0x55, 0x1f, 0x08, 0x1a, 0x02, 0x52, 0x4b, 0x1c, 0x16, 0x06, 0x00,\n",
    "    0x01, 0x0f, 0x56, 0x0a, 0x4e, 0x11, 0x4f, 0x54, 0x1a, 0x19, 0x04, 0x52, 0x04, 0x41, 0x05, 0x1f,\n",
    "    0x42, 0x00, 0x2e, 0x02, 0x45, 0x1e, 0x45, 0x00,\t0x14, 0x15, 0x49, 0x1a, 0x46\n",
    "]"
   ]
  },
  {
   "cell_type": "code",
   "execution_count": 4,
   "metadata": {},
   "outputs": [],
   "source": [
    "chiffrate[2] = [\n",
    "    0x15, 0x57, 0x1c, 0x54, 0x00, 0x05, 0x4b, 0x16, 0x1a, 0x0a, 0x4b, 0x12, 0x1d, 0x52, 0x06, 0x06,\n",
    "    0x47, 0x16, 0x0d, 0x4e, 0x1e, 0x45, 0x49, 0x1a, 0x4f, 0x43, 0x10, 0x0c, 0x09, 0x54, 0x0e, 0x47,\n",
    "    0x01, 0x15, 0x1f, 0x0b, 0x12, 0x00, 0x15, 0x1a, 0x04, 0x54, 0x42, 0x16, 0x0b, 0x55, 0x07, 0x01,\n",
    "    0x59, 0x54, 0x15, 0x0c, 0x1e, 0x09, 0x17, 0x41, 0x1d, 0x1d, 0x1c, 0x4e, 0x56, 0x4c, 0x4c, 0x14,\n",
    "    0x0b, 0x44, 0x45, 0x04, 0x00, 0x07, 0x0a, 0x49, 0x17, 0x02, 0x41, 0x19, 0x4b, 0x59, 0x3a, 0x00,\n",
    "    0x1d, 0x01, 0x4c, 0x0b, 0x4e, 0x0d, 0x49, 0x19, 0x45, 0x4d, 0x42, 0x61, 0x04, 0x41, 0x09, 0x0a,\n",
    "    0x0e, 0x41, 0x26, 0x11, 0x0c, 0x4c, 0x2c, 0x41, 0x17, 0x1b, 0x4e, 0x53, 0x1c, 0x49, 0x16, 0x56,\n",
    "    0x0e, 0x0b, 0x59, 0x42, 0x1c, 0x0a, 0x00, 0x0b, 0x1d, 0x0b, 0x02, 0x4e, 0x45, 0x0c, 0x0e, 0x1b,\n",
    "    0x06, 0x06, 0x4f, 0x5d, 0x00\n",
    "]"
   ]
  },
  {
   "cell_type": "code",
   "execution_count": 5,
   "metadata": {},
   "outputs": [],
   "source": [
    "import csv\n",
    "\n",
    "import urllib.request\n",
    "\n",
    "url = \"https://raw.githubusercontent.com/pkLazer/password_rank/refs/heads/master/4000-most-common-english-words-csv.csv\"\n",
    "\n",
    "response = urllib.request.urlopen(url)\n",
    "most_common = response.read().decode('utf-8').splitlines()[1:]\n"
   ]
  },
  {
   "cell_type": "code",
   "execution_count": 6,
   "metadata": {},
   "outputs": [],
   "source": [
    "def xor(text_1, text_2):\n",
    "    paare = [(a,b) for a,b in zip(text_1, text_2)]\n",
    "    xor_paare = [a ^ b for (a,b) in paare]\n",
    "    return xor_paare"
   ]
  },
  {
   "cell_type": "code",
   "execution_count": 7,
   "metadata": {},
   "outputs": [
    {
     "name": "stdout",
     "output_type": "stream",
     "text": [
      "abcdefghijklmnopqrstuvwxyzABCDEFGHIJKLMNOPQRSTUVWXYZ '!.,-?\n"
     ]
    }
   ],
   "source": [
    "import string\n",
    "\n",
    "moegliche_zeichen = \"\"\n",
    "moegliche_zeichen += string.ascii_lowercase\n",
    "moegliche_zeichen += string.ascii_uppercase\n",
    "moegliche_zeichen += \" '!.,-?\"\n",
    "\n",
    "print(moegliche_zeichen)"
   ]
  },
  {
   "cell_type": "code",
   "execution_count": 8,
   "metadata": {},
   "outputs": [],
   "source": [
    "def get_text(xor_text):\n",
    "    return \"\".join([chr(c) if chr(c) in moegliche_zeichen else \"*\" for c in xor_text])"
   ]
  },
  {
   "cell_type": "code",
   "execution_count": 9,
   "metadata": {},
   "outputs": [
    {
     "name": "stdout",
     "output_type": "stream",
     "text": [
      "Xor 1 und 2\n",
      "*YH***N*******R*UA***DM***K*********M***SD**********E*H*N*A*I*I***ZH H*F*E*I***YE***E*ON**MR*N*L*EO*****G***Y\n",
      "Xor 2 und 3\n",
      "******K******O**FE*O*EM**EB**EAB***OKY**A*OW***DD*****EA**SS**L**N***R*A***RWO*********M*TF*****LA**IRiA***IZ\n",
      "Xor 1 und 3\n",
      "*YS**********RU****T*****L***GAF***C*I***TAW***DW***P**EI**SV****YKV*****E***E*YY***E*I*CW*a*N*YW*G*CNnTD**H******EB**EG********A***\n"
     ]
    }
   ],
   "source": [
    "print(\"Xor 1 und 2\")\n",
    "print(get_text(xor(chiffrate[0],chiffrate[1])))\n",
    "print(\"Xor 2 und 3\")\n",
    "print(get_text(xor(chiffrate[1],chiffrate[2])))\n",
    "print(\"Xor 1 und 3\")\n",
    "print(get_text(xor(chiffrate[0],chiffrate[2])))"
   ]
  },
  {
   "cell_type": "code",
   "execution_count": 10,
   "metadata": {},
   "outputs": [],
   "source": [
    "xor_1 = xor(chiffrate[0],chiffrate[1])\n",
    "xor_2 = xor(chiffrate[0],chiffrate[2])\n",
    "xor_3 = xor(chiffrate[1],chiffrate[2])"
   ]
  },
  {
   "cell_type": "code",
   "execution_count": 20,
   "metadata": {},
   "outputs": [],
   "source": [
    "from typing import List\n",
    "\n",
    "def replace_if_match(text_in_1 : str, text_in_2 : str, words : List[str]):\n",
    "    for word_1 in words:\n",
    "        word_len = len(word_1)\n",
    "        text_1_len = len(text_in_1)\n",
    "        word_ord = [ord(c) for c in word_1]\n",
    "        for i in range(text_1_len - word_len):\n",
    "            word_2_ord = xor(text_in_1[i:i+word_len],word_ord)\n",
    "            word_2 = \"\".join([chr(c) for c in word_2_ord])\n",
    "            if word_2 in words:\n",
    "                print(word_2)"
   ]
  },
  {
   "cell_type": "code",
   "execution_count": 21,
   "metadata": {},
   "outputs": [
    {
     "name": "stdout",
     "output_type": "stream",
     "text": [
      "day\n",
      "ten\n",
      "net\n",
      "echo\n",
      "kit\n",
      "his\n",
      "now\n",
      "but\n",
      "hip\n",
      "gas\n",
      "tea\n",
      "dish\n",
      "fit\n",
      "his\n",
      "rod\n",
      "fog\n",
      "pipe\n",
      "red\n",
      "the\n",
      "hug\n",
      "act\n",
      "nut\n",
      "tax\n",
      "cut\n",
      "bed\n",
      "shoe\n",
      "nor\n",
      "bag\n",
      "pad\n",
      "era\n",
      "ah\n",
      "hi\n",
      "own\n",
      "mud\n",
      "try\n",
      "bus\n",
      "gap\n",
      "new\n",
      "heal\n",
      "let\n",
      "AM\n",
      "man\n",
      "for\n",
      "pet\n",
      "lid\n",
      "slip\n",
      "lab\n",
      "law\n",
      "who\n",
      "cast\n",
      "yes\n",
      "sole\n",
      "TV\n",
      "dip\n",
      "out\n",
      "case\n",
      "hit\n",
      "via\n",
      "row\n",
      "re\n",
      "herb\n",
      "mad\n",
      "unit\n",
      "toy\n",
      "nod\n",
      "war\n",
      "hers\n",
      "when\n",
      "tag\n",
      "shot\n",
      "oh\n",
      "bar\n",
      "eat\n",
      "her\n",
      "log\n",
      "etc\n",
      "pole\n",
      "fee\n",
      "pro\n",
      "cat\n",
      "tie\n",
      "not\n",
      "owe\n",
      "mine\n",
      "you\n",
      "odd\n",
      "more\n",
      "pot\n",
      "try\n",
      "oh\n",
      "leg\n",
      "bow\n",
      "pot\n",
      "with\n",
      "pit\n",
      "zone\n",
      "fog\n",
      "cut\n",
      "uh\n",
      "ad\n",
      "mild\n",
      "law\n",
      "pond\n",
      "tear\n",
      "rip\n",
      "use\n",
      "but\n",
      "pan\n",
      "log\n",
      "term\n",
      "hat\n",
      "re\n",
      "fit\n",
      "nine\n",
      "now\n",
      "bit\n",
      "pen\n",
      "how\n"
     ]
    }
   ],
   "source": [
    "replace_if_match(xor_1,xor_2,most_common)"
   ]
  },
  {
   "cell_type": "code",
   "execution_count": 13,
   "metadata": {},
   "outputs": [
    {
     "ename": "NameError",
     "evalue": "name 'check_1' is not defined",
     "output_type": "error",
     "traceback": [
      "\u001b[1;31m---------------------------------------------------------------------------\u001b[0m",
      "\u001b[1;31mNameError\u001b[0m                                 Traceback (most recent call last)",
      "Cell \u001b[1;32mIn[13], line 1\u001b[0m\n\u001b[1;32m----> 1\u001b[0m \u001b[38;5;28;01mfor\u001b[39;00m i \u001b[38;5;129;01min\u001b[39;00m \u001b[38;5;28mrange\u001b[39m(\u001b[38;5;28mlen\u001b[39m(xor_1) \u001b[38;5;241m-\u001b[39m \u001b[38;5;28mlen\u001b[39m(\u001b[43mcheck_1\u001b[49m)):\n\u001b[0;32m      2\u001b[0m     \u001b[38;5;28mprint\u001b[39m(i,get_text(xor(xor_1[i:i\u001b[38;5;241m+\u001b[39m\u001b[38;5;28mlen\u001b[39m(check_1)],check_1_ord)))\n",
      "\u001b[1;31mNameError\u001b[0m: name 'check_1' is not defined"
     ]
    }
   ],
   "source": [
    "for i in range(len(xor_1) - len(check_1)):\n",
    "    print(i,get_text(xor(xor_1[i:i+len(check_1)],check_1_ord)))"
   ]
  },
  {
   "cell_type": "code",
   "execution_count": null,
   "metadata": {},
   "outputs": [],
   "source": [
    "def text_with_word_at_pos(pos: int, text: string, word: string):\n",
    "    for i, c in enumerate(word):\n",
    "        text[pos+i] = ord(c)\n",
    "    return text"
   ]
  },
  {
   "cell_type": "code",
   "execution_count": null,
   "metadata": {},
   "outputs": [],
   "source": [
    "orig_1 = [0 for i in range(len(chiffrate[0]))]\n",
    "orig_1 = text_with_word_at_pos(43, orig_1, \" the \")"
   ]
  },
  {
   "cell_type": "code",
   "execution_count": null,
   "metadata": {},
   "outputs": [
    {
     "data": {
      "text/plain": [
       "'*YH***N*******R*UA***DM***K*********M***SD* day ****E*H*N*A*I*I***ZH H*F*E*I***YE***E*ON**MR*N*L*EO*****G***Y'"
      ]
     },
     "execution_count": 14,
     "metadata": {},
     "output_type": "execute_result"
    }
   ],
   "source": [
    "get_text(xor(xor(chiffrate[0],chiffrate[1]),orig_1))"
   ]
  },
  {
   "cell_type": "code",
   "execution_count": null,
   "metadata": {},
   "outputs": [],
   "source": []
  }
 ],
 "metadata": {
  "kernelspec": {
   "display_name": "Python 3",
   "language": "python",
   "name": "python3"
  },
  "language_info": {
   "codemirror_mode": {
    "name": "ipython",
    "version": 3
   },
   "file_extension": ".py",
   "mimetype": "text/x-python",
   "name": "python",
   "nbconvert_exporter": "python",
   "pygments_lexer": "ipython3",
   "version": "3.11.9"
  }
 },
 "nbformat": 4,
 "nbformat_minor": 2
}
